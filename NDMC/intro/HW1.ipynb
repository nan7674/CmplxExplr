{
 "cells": [
  {
   "cell_type": "code",
   "execution_count": null,
   "id": "4e76dd16",
   "metadata": {},
   "outputs": [],
   "source": [
    "import numpy as np\n",
    "from matplotlib import pyplot as plt\n",
    "\n",
    "def logistic_map(x, r):\n",
    "    return r * x * (1 - x)"
   ]
  },
  {
   "cell_type": "markdown",
   "id": "a35633e7",
   "metadata": {},
   "source": [
    "<hr style=\"height:2px;border-width:0;color:black;background-color:black\">"
   ]
  },
  {
   "cell_type": "markdown",
   "id": "c4e0370c",
   "metadata": {},
   "source": [
    "<b>Question 1:</b> Use your logistic map program to explore the idea of <i>sensitive dependence</i> on initial conditions.  Generate two trajectories of the logistic map $\\{x_n\\}$ and $\\{y_n\\}$.  For each of these experiments the initial condition of should $\\{x_n\\}$ be $x_0 = 2$ and for $\\{y_n\\}$ you should use $y_0=0.200001$.  For now, fix $r = 2$, generate these two trajectories and then plot $|x_n - y_n|$ vs $n$.  Now repeat this for $r = 3.4$, and $r = 3.72$.  Compare your results to the three plots below and then answer the questions that follow."
   ]
  },
  {
   "cell_type": "code",
   "execution_count": null,
   "id": "5368e9a1",
   "metadata": {},
   "outputs": [],
   "source": [
    "def orbit(F, x0, n):\n",
    "    result = np.empty((n,), dtype=float)\n",
    "    for idx in range(n):\n",
    "        result[idx] = x0\n",
    "        x0 = F(x0)\n",
    "    return result\n",
    "\n",
    "def show_orbit(orbit, **kws):\n",
    "    xs = np.arange(len(orbit))\n",
    "    plt.plot(xs, orbit, color=kws.get('color', 'b'), marker='.', linestyle='')\n",
    "    \n",
    "def plot_difference(r):\n",
    "    T1 = orbit(lambda x: logistic_map(x, r), 0.2, 200)\n",
    "    T2 = orbit(lambda x: logistic_map(x, r), 0.200001, 200)\n",
    "\n",
    "    show_orbit(np.abs(T2 - T1))\n",
    "    plt.show()"
   ]
  },
  {
   "cell_type": "code",
   "execution_count": null,
   "id": "ad3ab306",
   "metadata": {},
   "outputs": [],
   "source": [
    "# case r = 2\n",
    "plot_difference(2)"
   ]
  },
  {
   "cell_type": "code",
   "execution_count": null,
   "id": "6136574a",
   "metadata": {},
   "outputs": [],
   "source": [
    "#case r = 3.4\n",
    "plot_difference(3.4)"
   ]
  },
  {
   "cell_type": "code",
   "execution_count": null,
   "id": "5a90c0da",
   "metadata": {},
   "outputs": [],
   "source": [
    "# case r = 3.72\n",
    "plot_difference(3.72)"
   ]
  },
  {
   "cell_type": "markdown",
   "id": "b89641f1",
   "metadata": {},
   "source": [
    "<b>Question (e):</b> For $r = 2$, what is the difference between the 500th iterates, i.e., what is $|x_{500} - y_{500}|$?<br>\n",
    "<b>Answer (e):</b> 0. In general, at $r=2$ the logistic map has on stable fixed point. All the trajectories limit to the point and, therefore, the difference will be pretty close to 0."
   ]
  },
  {
   "cell_type": "markdown",
   "id": "830eccb7",
   "metadata": {},
   "source": [
    "<b>Question (f)</b> For $r = 3.4$, what is the difference between the 500th iterates, i.e., what is $|x_{500} - y_{500}|$?<br>\n",
    "<b>Answer (f):</b> 0. Here there is one stable 2-cycle. Since the initial conditions are close to each other, one can expect that the difference will tend to 0."
   ]
  },
  {
   "cell_type": "markdown",
   "id": "3370f969",
   "metadata": {},
   "source": [
    "<b>Question (g)</b> For $r = 3.72$, what is the average absolute difference for the first 5,000 iterates?<br>\n",
    "Here one has to compute the value\n",
    "$$\n",
    "\\frac{1}{5000}\\sum_{j = 0}^{5000}|x_j - y_j|\n",
    "$$"
   ]
  },
  {
   "cell_type": "code",
   "execution_count": null,
   "id": "901e6be7",
   "metadata": {},
   "outputs": [],
   "source": [
    "r, N = 3.72, 5000\n",
    "T1 = orbit(lambda x: logistic_map(x, r), 0.2, N)\n",
    "T2 = orbit(lambda x: logistic_map(x, r), 0.200001, N)\n",
    "print(round(np.average(np.abs(T1 - T2)), 4))"
   ]
  },
  {
   "cell_type": "markdown",
   "id": "93f7240c",
   "metadata": {},
   "source": [
    "<b>Question (h):</b> For r = 3.72, what is the average absolute difference for the first 500,000 iterates? <br>\n",
    "$$\n",
    "\\frac{1}{50000}\\sum_{j = 0}^{50000}|x_j - y_j|\n",
    "$$"
   ]
  },
  {
   "cell_type": "code",
   "execution_count": null,
   "id": "44ac284a",
   "metadata": {},
   "outputs": [],
   "source": [
    "N = 500000\n",
    "T1 = orbit(lambda x: logistic_map(x, r), 0.2, N)\n",
    "T2 = orbit(lambda x: logistic_map(x, r), 0.200001, N)\n",
    "print(round(np.average(np.abs(T1 - T2)), 4))"
   ]
  },
  {
   "cell_type": "markdown",
   "id": "543c1f1e",
   "metadata": {},
   "source": [
    "<hr style=\"height:2px;border-width:0;color:black;background-color:black\">"
   ]
  },
  {
   "cell_type": "markdown",
   "id": "4ea59ca5",
   "metadata": {},
   "source": [
    "<b>Question 2.a:</b> Generate a 50-point trajectory of the logistic map starting at $x_0=2$ using parameter value $r = 3.68725$.  What kind of dynamics does this appear to be?"
   ]
  },
  {
   "cell_type": "code",
   "execution_count": null,
   "id": "90f2fd29",
   "metadata": {},
   "outputs": [],
   "source": [
    "show_orbit(orbit(lambda x: logistic_map(x, 3.68725), 0.2, 50))"
   ]
  },
  {
   "cell_type": "code",
   "execution_count": null,
   "id": "d6818bbf",
   "metadata": {},
   "outputs": [],
   "source": []
  }
 ],
 "metadata": {
  "kernelspec": {
   "display_name": "Python 3",
   "language": "python",
   "name": "python3"
  },
  "language_info": {
   "codemirror_mode": {
    "name": "ipython",
    "version": 3
   },
   "file_extension": ".py",
   "mimetype": "text/x-python",
   "name": "python",
   "nbconvert_exporter": "python",
   "pygments_lexer": "ipython3",
   "version": "3.8.8"
  }
 },
 "nbformat": 4,
 "nbformat_minor": 5
}
