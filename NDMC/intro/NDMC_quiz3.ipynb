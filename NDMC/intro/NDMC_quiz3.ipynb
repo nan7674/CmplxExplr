{
 "cells": [
  {
   "cell_type": "markdown",
   "id": "6a8c9d13",
   "metadata": {},
   "source": [
    "# Nonlinear Dynamics: Mathematical and Computational Approaches, Quiz 3"
   ]
  },
  {
   "cell_type": "markdown",
   "id": "d5ff8f11",
   "metadata": {},
   "source": [
    "<hr style=\"height:2px;border-width:0;color:black;background-color:black\">"
   ]
  },
  {
   "cell_type": "code",
   "execution_count": null,
   "id": "398675f1",
   "metadata": {},
   "outputs": [],
   "source": [
    "import numpy as np\n",
    "from matplotlib import pyplot as plt"
   ]
  },
  {
   "cell_type": "markdown",
   "id": "4e9cb9cb",
   "metadata": {},
   "source": [
    "<hr style=\"height:2px;border-width:0;color:black;background-color:black\">"
   ]
  },
  {
   "cell_type": "markdown",
   "id": "e636fcd9",
   "metadata": {},
   "source": [
    "<b>Question 1:</b> There are two variables in the logistic map equation, $x_n$ and $r$.  Which of these is the <i>parameter</i>?<br>\n",
    "<b>Answer 1:</b> r"
   ]
  },
  {
   "cell_type": "markdown",
   "id": "60f4cf44",
   "metadata": {},
   "source": [
    "<hr style=\"height:2px;border-width:0;color:black;background-color:black\">"
   ]
  },
  {
   "cell_type": "markdown",
   "id": "d40332de",
   "metadata": {},
   "source": [
    "<b>Question 2:</b> Can a change in the logistic map's parameter cause a change in the topology of the attrator; i.e., a bifurcation in the dynamics?<br>\n",
    "<b>Answer 2:</b> yes. Here is an example: a fixed point dies and 2-point cycles births."
   ]
  },
  {
   "cell_type": "markdown",
   "id": "bf66ed54",
   "metadata": {},
   "source": [
    "<hr style=\"height:2px;border-width:0;color:black;background-color:black\">"
   ]
  },
  {
   "cell_type": "markdown",
   "id": "77131d8d",
   "metadata": {},
   "source": [
    "<b>Question 3:</b> Use the application to find the $r$ value where the fixed-point dynamics bifurcate to a two-cycle. At what $r$ value does this bifurcation in the logistic map dynamics occur?\n",
    "<ul>\n",
    "    <li>A. 2.99</li>\n",
    "    <li>B. 3</li>\n",
    "    <li>C. 3.01</li>\n",
    "</ul>"
   ]
  },
  {
   "cell_type": "code",
   "execution_count": null,
   "id": "5ee636e4",
   "metadata": {},
   "outputs": [],
   "source": [
    "L = lambda x, r: r * x * (1 - x)\n",
    "L1, L2, L3 = lambda x: L(x, 2.99), lambda x: L(x, 3), lambda x: L(x, 3.01)\n",
    "\n",
    "def orbit(F, x0, n):\n",
    "    result = []\n",
    "    for _ in range(n):\n",
    "        result.append(x0)\n",
    "        x0 = F(x0)\n",
    "    return result\n",
    "\n",
    "def show_orbit(orbit, **kws):\n",
    "    xs = np.arange(len(orbit))\n",
    "    plt.plot(xs, orbit, color=kws.get('color', 'b'), marker='.', linestyle='')\n",
    "    \n",
    "O1 = orbit(L1, 0.3, 5000) \n",
    "show_orbit(O1)\n",
    "plt.show()"
   ]
  },
  {
   "cell_type": "markdown",
   "id": "7c173d81",
   "metadata": {},
   "source": [
    "Let's look at the tail of ther orbit"
   ]
  },
  {
   "cell_type": "code",
   "execution_count": null,
   "id": "068f435d",
   "metadata": {},
   "outputs": [],
   "source": [
    "show_orbit(O1[-50:])"
   ]
  },
  {
   "cell_type": "markdown",
   "id": "53425a88",
   "metadata": {},
   "source": [
    "In general it seems that there is a fixed point. But the better is to describe the situation theoretically.\n",
    "\n",
    "We know, that logistic map always has a fixed point located at\n",
    "$$\n",
    "x_* = 1 - \\frac{1}{r}.\n",
    "$$\n",
    "The point is stable if $|f'(x_*)| < 1.$\n",
    "\n",
    "If $r = 2.9$ than $f'(2.9) = 2 - 2.9 = -0.9$. And one concludes that the fixed point is stable"
   ]
  },
  {
   "cell_type": "markdown",
   "id": "5b57f8b7",
   "metadata": {},
   "source": [
    "For $r=3.01$ the situation is different. Again, we have a fixed point located at \n",
    "$$\n",
    "x_* = 1 - \\frac{1}{3.01},\n",
    "$$\n",
    "or"
   ]
  },
  {
   "cell_type": "code",
   "execution_count": null,
   "id": "d8bccb7a",
   "metadata": {},
   "outputs": [],
   "source": [
    "1 - 1 / 3.01"
   ]
  },
  {
   "cell_type": "markdown",
   "id": "06faffae",
   "metadata": {},
   "source": [
    "But the fixed point now is unstable. Numerical computations shows that fact:"
   ]
  },
  {
   "cell_type": "code",
   "execution_count": null,
   "id": "91bd374b",
   "metadata": {},
   "outputs": [],
   "source": [
    "#show_orbit(orbit(L2, 0.3, 5000)[-50:-1], color='r')\n",
    "show_orbit(orbit(L3, 0.3, 500), color='b')\n",
    "plt.show()"
   ]
  },
  {
   "cell_type": "markdown",
   "id": "bcb01df5",
   "metadata": {},
   "source": [
    "<b>Answer 3:</b> bifurcation occurs at $r=3$."
   ]
  },
  {
   "cell_type": "markdown",
   "id": "91ff2564",
   "metadata": {},
   "source": [
    "<hr style=\"height:2px;border-width:0;color:black;background-color:black\">"
   ]
  },
  {
   "cell_type": "markdown",
   "id": "a262fdbe",
   "metadata": {},
   "source": [
    "<b>Question 4:</b> Explore different initial conditions ranging from $0.1 < x_0 < 0.9$ with $r = 3.2$.  Do all orbits limit to the same 2-cycle?"
   ]
  },
  {
   "cell_type": "code",
   "execution_count": null,
   "id": "d490d114",
   "metadata": {},
   "outputs": [],
   "source": [
    "L0 = lambda x: L(x, 3.2)\n",
    "for x0 in np.arange(0.1, 0.9, 0.05):\n",
    "    show_orbit(orbit(L0, x0, 100))\n",
    "plt.show()"
   ]
  },
  {
   "cell_type": "markdown",
   "id": "ed9f5fc1",
   "metadata": {},
   "source": [
    "<b>Answer 4:</b> yes, all the trajectories limit to the same cycle."
   ]
  },
  {
   "cell_type": "markdown",
   "id": "d5366c8d",
   "metadata": {},
   "source": [
    "<hr style=\"height:2px;border-width:0;color:black;background-color:black\">"
   ]
  },
  {
   "cell_type": "markdown",
   "id": "91755572",
   "metadata": {},
   "source": [
    "<b>Question 5:</b> Is that two-cycle an attractor? <br>\n",
    "<b>Answer 5:</b> yes."
   ]
  },
  {
   "cell_type": "markdown",
   "id": "7489d7d4",
   "metadata": {},
   "source": [
    "<hr style=\"height:2px;border-width:0;color:black;background-color:black\">"
   ]
  },
  {
   "cell_type": "markdown",
   "id": "8b2c4be8",
   "metadata": {},
   "source": [
    "<b>Question 6:</b> Using the same application, slowly raise $r$ from 3.4 to 3.5.  Between these two $r$ values the dynamics will bifurcate from a 2-cycle to an $n$-cycle, where $n$ is:<br>\n",
    "<ul>\n",
    "    <li>A. 2</li>\n",
    "    <li>B. 3</li>\n",
    "    <li>C. 4</li>\n",
    "    <li>D. 5</li>\n",
    "</ul>"
   ]
  },
  {
   "cell_type": "markdown",
   "id": "7152fac0",
   "metadata": {},
   "source": [
    "<hr style=\"height:2px;border-width:0;color:black;background-color:black\">"
   ]
  },
  {
   "cell_type": "code",
   "execution_count": null,
   "id": "c8a78eb8",
   "metadata": {},
   "outputs": [],
   "source": []
  }
 ],
 "metadata": {
  "kernelspec": {
   "display_name": "Python 3",
   "language": "python",
   "name": "python3"
  },
  "language_info": {
   "codemirror_mode": {
    "name": "ipython",
    "version": 3
   },
   "file_extension": ".py",
   "mimetype": "text/x-python",
   "name": "python",
   "nbconvert_exporter": "python",
   "pygments_lexer": "ipython3",
   "version": "3.8.8"
  }
 },
 "nbformat": 4,
 "nbformat_minor": 5
}
