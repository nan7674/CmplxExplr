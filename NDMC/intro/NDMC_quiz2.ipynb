{
 "cells": [
  {
   "cell_type": "markdown",
   "id": "a1346579",
   "metadata": {},
   "source": [
    "## Nonlinear Dynamics: Mathematical and Computational Approaches, Quiz 2"
   ]
  },
  {
   "cell_type": "code",
   "execution_count": null,
   "id": "a2809b22",
   "metadata": {},
   "outputs": [],
   "source": [
    "import numpy as np\n",
    "from matplotlib import pyplot"
   ]
  },
  {
   "cell_type": "markdown",
   "id": "4b6971a4",
   "metadata": {},
   "source": [
    "<hr style=\"height:2px;border-width:0;color:black;background-color:black\">"
   ]
  },
  {
   "cell_type": "markdown",
   "id": "8d1b902a",
   "metadata": {},
   "source": [
    "<b>Question 1:</b> How many state variables does the logistic map have? <br>\n",
    "<b>Answer 1:</b> 1"
   ]
  },
  {
   "cell_type": "markdown",
   "id": "2b8196e2",
   "metadata": {},
   "source": [
    "<hr style=\"height:2px;border-width:0;color:black;background-color:black\">"
   ]
  },
  {
   "cell_type": "markdown",
   "id": "55a20561",
   "metadata": {},
   "source": [
    "<b>Question 2:</b> How many state variables does the <a href=\"https://en.wikipedia.org/wiki/H%C3%A9non_map\">Hénon map</a> have? <br>\n",
    "<b>Answer 2:</b> 2."
   ]
  },
  {
   "cell_type": "markdown",
   "id": "6ba74f2c",
   "metadata": {},
   "source": [
    "<hr style=\"height:2px;border-width:0;color:black;background-color:black\">"
   ]
  },
  {
   "cell_type": "markdown",
   "id": "b8272773",
   "metadata": {},
   "source": [
    "<b>Question 3:</b>\n",
    "    Use the application (logistic map) to compute and plot the first 50 iterates of the logistic map from $x_0 = 0.2$ and $r = 2$.  Repeat this process for different initial conditions in the range $0.1 < x_0 < 0.8$.  Do all of these initial conditions limit to the same fixed point?"
   ]
  },
  {
   "cell_type": "code",
   "execution_count": null,
   "id": "987b2482",
   "metadata": {},
   "outputs": [],
   "source": [
    "L = lambda x: 2 * x * (1 - x)\n",
    "\n",
    "def orbit(F, x0, n):\n",
    "    result = []\n",
    "    for _ in range(n):\n",
    "        result.append(x0)\n",
    "        x0 = F(x0)\n",
    "    return result\n",
    "\n",
    "def show_orbit(orbit, **kws):\n",
    "    xs = np.arange(len(orbit))\n",
    "    pyplot.plot(xs, orbit, color=kws.get('color', 'b'))\n",
    "    \n",
    "show_orbit(orbit(L, 0.2, 50))"
   ]
  },
  {
   "cell_type": "markdown",
   "id": "55609c4d",
   "metadata": {},
   "source": [
    "Fixed point for the logistic map is defined by the formula\n",
    "$$\n",
    "x_* = 1 - \\frac{1}{r},\n",
    "$$\n",
    "where $r$ is the parameter if the map. If $r = 2$ than the map has  the fixed point $x_*=0.5.$"
   ]
  },
  {
   "cell_type": "code",
   "execution_count": null,
   "id": "d121801d",
   "metadata": {},
   "outputs": [],
   "source": [
    "for x0 in np.arange(0.1, 0.81, 0.1):\n",
    "    show_orbit(orbit(L, x0, 50))\n",
    "pyplot.show()"
   ]
  },
  {
   "cell_type": "markdown",
   "id": "78381317",
   "metadata": {},
   "source": [
    "<b>Answer 3:</b> So, numerical computations show that all the initial conditions end at the same fixed point. "
   ]
  },
  {
   "cell_type": "markdown",
   "id": "a2ec8673",
   "metadata": {},
   "source": [
    "<hr style=\"height:2px;border-width:0;color:black;background-color:black\">"
   ]
  },
  {
   "cell_type": "markdown",
   "id": "59a05b63",
   "metadata": {},
   "source": [
    "<b>Question 4:</b> With $r = 2$, can the dynamics be described as an \"attracting fixed point\"? <br>\n",
    "<b>Answer 4:</b> yes"
   ]
  },
  {
   "cell_type": "markdown",
   "id": "211df4e4",
   "metadata": {},
   "source": [
    "<hr style=\"height:2px;border-width:0;color:black;background-color:black\">"
   ]
  },
  {
   "cell_type": "markdown",
   "id": "76e97c24",
   "metadata": {},
   "source": [
    "<b>Question 5:</b> Is this fixed point stable or unstable?<br>\n",
    "<b>Answer 5:</b> stable."
   ]
  },
  {
   "cell_type": "markdown",
   "id": "cfd52cc4",
   "metadata": {},
   "source": [
    "<hr style=\"height:2px;border-width:0;color:black;background-color:black\">"
   ]
  },
  {
   "cell_type": "markdown",
   "id": "9448e5fc",
   "metadata": {},
   "source": [
    "<b>Question 6:</b> If the fixed point in questions 3-5 is an attractor, what is its <i>basin of attraction</i>?"
   ]
  },
  {
   "cell_type": "markdown",
   "id": "097c86cb",
   "metadata": {},
   "source": [
    "Would be nice to answer to the question theoretically. But at the moment let's make some experiments"
   ]
  },
  {
   "cell_type": "code",
   "execution_count": null,
   "id": "4635b677",
   "metadata": {},
   "outputs": [],
   "source": [
    "for x0 in np.arange(0.0, 1, 0.05):\n",
    "    show_orbit(orbit(L, x0, 50))\n",
    "pyplot.show()"
   ]
  },
  {
   "cell_type": "markdown",
   "id": "76d358b4",
   "metadata": {},
   "source": [
    "<b>Answer 6</b>: following the figure it could be concluded that tha basin is the domain $(0,1)$. Really, the $x=0$ is a fixed point. For the $x=1$ the next iteration brings the system into that point. So all the boundaries of the segment should be excluded from the basin."
   ]
  },
  {
   "cell_type": "markdown",
   "id": "914ffc29",
   "metadata": {},
   "source": [
    "<hr style=\"height:2px;border-width:0;color:black;background-color:black\">"
   ]
  },
  {
   "cell_type": "markdown",
   "id": "96011fd1",
   "metadata": {},
   "source": [
    "<b>Question 7:</b> Now, plot the first 50 iterates of the logistic map with $r = 2$ starting from $x_0 = 0.2$.  Repeat for $r = 2.7$.  As you established in a previous quiz, both are fixed points, however, do the transients have the same shape?"
   ]
  },
  {
   "cell_type": "code",
   "execution_count": null,
   "id": "08231adc",
   "metadata": {},
   "outputs": [],
   "source": [
    "L1, L2 = lambda x: 2 * x * (1 - x), lambda x: 2.7 * x * (1 - x)\n",
    "show_orbit(orbit(L1, 0.2, 100))\n",
    "show_orbit(orbit(L2, 0.2, 100))\n",
    "pyplot.show()\n",
    "del L1\n",
    "del L2"
   ]
  },
  {
   "cell_type": "markdown",
   "id": "a59ad5fb",
   "metadata": {},
   "source": [
    "<b>Answer 7:</b> the transients are different."
   ]
  },
  {
   "cell_type": "markdown",
   "id": "1486e9e6",
   "metadata": {},
   "source": [
    "<hr style=\"height:2px;border-width:0;color:black;background-color:black\">"
   ]
  },
  {
   "cell_type": "markdown",
   "id": "492b59de",
   "metadata": {},
   "source": [
    "<b>Question 8:</b> Again, compute and plot the first 50 iterates of the logistic map from $x_0 = 0.2$ and $r = 2.7$ and then repeat this using $r = 2.8$.  As you have seen, the system has fixed points for both of these $r$ values.  Which of the following makes this statement true: \"The transient of r = 2.7 dies out ........... the transient of r = 2.8.\"?\n",
    "<ul>\n",
    "    <li> A. faster than </li>\n",
    "    <li> B. slower than </li>\n",
    "    <li> C. at the same speed as </li>\n",
    "</ul>"
   ]
  },
  {
   "cell_type": "code",
   "execution_count": null,
   "id": "e46c8bdd",
   "metadata": {},
   "outputs": [],
   "source": [
    "L1, L2 = lambda x: 2.7 * x * (1 - x), lambda x: 2.8 * x * (1 - x)\n",
    "show_orbit(orbit(L1, 0.2, 100), color='g')\n",
    "show_orbit(orbit(L2, 0.2, 100), color='r')\n",
    "pyplot.show()\n",
    "\n",
    "del L1\n",
    "del L2"
   ]
  },
  {
   "cell_type": "markdown",
   "id": "c2772f8d",
   "metadata": {},
   "source": [
    "<b>Answer 8:</b> The correct answer is A."
   ]
  },
  {
   "cell_type": "markdown",
   "id": "955b0cfb",
   "metadata": {},
   "source": [
    "<hr style=\"height:2px;border-width:0;color:black;background-color:black\">"
   ]
  }
 ],
 "metadata": {
  "kernelspec": {
   "display_name": "Python 3",
   "language": "python",
   "name": "python3"
  },
  "language_info": {
   "codemirror_mode": {
    "name": "ipython",
    "version": 3
   },
   "file_extension": ".py",
   "mimetype": "text/x-python",
   "name": "python",
   "nbconvert_exporter": "python",
   "pygments_lexer": "ipython3",
   "version": "3.8.8"
  }
 },
 "nbformat": 4,
 "nbformat_minor": 5
}
