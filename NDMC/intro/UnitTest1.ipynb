{
 "cells": [
  {
   "cell_type": "markdown",
   "id": "95423c86",
   "metadata": {},
   "source": [
    "## Unit 1 "
   ]
  },
  {
   "cell_type": "code",
   "execution_count": null,
   "id": "f5769dc7",
   "metadata": {},
   "outputs": [],
   "source": [
    "import numpy as np\n",
    "from matplotlib import pyplot as plt"
   ]
  },
  {
   "cell_type": "markdown",
   "id": "e9fc832e",
   "metadata": {},
   "source": [
    "<hr style=\"height:2px;border-width:0;color:black;background-color:black\">\n",
    "\n",
    "<b>Question 1:</b> Maps describe continuous-time dynamics.<br>\n",
    "<b>Answer 1:</b> true.\n",
    "\n",
    "<hr style=\"height:2px;border-width:0;color:black;background-color:black\">\n",
    "\n",
    "<b>Question 2:</b> Difference equations are used to model discrete-time dynamics.<br>\n",
    "</b>Answer 1:</b> true.\n",
    "\n",
    "<hr style=\"height:2px;border-width:0;color:black;background-color:black\">\n",
    "\n",
    "<b>Question 3:</b> How many state variables does this map have?\n",
    "$$\n",
    "x_n = \\cos x_n.\n",
    "$$\n",
    "<b>Answer 1:</b> 1.\n",
    "\n",
    "<hr style=\"height:2px;border-width:0;color:black;background-color:black\">\n",
    "\n",
    "<b>Question 4:</b> How many state variables does this map have?\n",
    "$$\n",
    "\\begin{aligned}\n",
    "&x_n = a y_n, \\\\\n",
    "&y_n = y_n \\cos x_n\n",
    "\\end{aligned}\n",
    "$$\n",
    "<b>Answer 1:</b> 2.\n",
    "\n",
    "<hr style=\"height:2px;border-width:0;color:black;background-color:black\">\n",
    "\n",
    "<b>Question 5:</b> Dynamical systems must have lots and lots of state variables to be chaotic.<br>\n",
    "<b>Answer 5:</b> false. Logistic map has just one state varaible and can demonstrate the chaotic behaviour.\n",
    "\n",
    "<hr style=\"height:2px;border-width:0;color:black;background-color:black\">\n",
    "\n",
    "<b>Question 6:</b> Consider the following map: $x_{n + 1} = r x_n + 3$. If $r = 3$ and $x_0 = 0.2$, what is $x_2$?<br>\n",
    "The map has the fixed point $x_*$, which is given by the equation\n",
    "$$\n",
    "x_* = r x_* + 3.\n",
    "$$\n",
    "Solving the equation with respect to $x_*$ we have\n",
    "$$\n",
    "x_* = \\frac{3}{1 - r}.\n",
    "$$\n",
    "Consider the change of variable\n",
    "$$\n",
    "x_n = \\tau_n + \\frac{3}{1 - r} \\quad \\text{or} \\quad \\tau_n = x_n - \\frac{3}{1 - r}.\n",
    "$$\n",
    "For the new varaible the dynamical system has the simple form $\\tau_{n + 1} = r\\tau_n$ and the obvious closed form for the general element of the sequence $\\tau_n = \\tau_0 r^n$. In terms of the initial system, the solution is written\n",
    "$$\n",
    "x_n = \\frac{3}{1 - r} + \\left(x_0 - \\frac{3}{1-r}\\right)r^n.\n",
    "$$\n",
    "\n",
    "Let's check everything numerically:"
   ]
  },
  {
   "cell_type": "code",
   "execution_count": null,
   "id": "4a572eee",
   "metadata": {},
   "outputs": [],
   "source": [
    "r, x0 = 3, 0.2\n",
    "def y(n):\n",
    "    u = 3 / (1 - r)\n",
    "    return u + (x0 - u) * pow(r, n)\n",
    "\n",
    "x = x0\n",
    "for iteration in range(4):\n",
    "    s1 = round(x, 4)\n",
    "    s2 = round(y(iteration), 4)\n",
    "    print('{}: {} / {} '.format(iteration, s1, s2))\n",
    "    \n",
    "    x = r * x + 3\n"
   ]
  },
  {
   "cell_type": "markdown",
   "id": "872b5d18",
   "metadata": {},
   "source": [
    "<hr style=\"height:2px;border-width:0;color:black;background-color:black\">\n",
    "\n",
    "<b>Question 7:</b> A fixed point is always stable.<br>\n",
    "<b>Answer 7:</b> false. An example: $x_{n + 1} = 2 x_n$ with general form of the solution $x_n = x_0 2^n$.\n",
    "\n",
    "<hr style=\"height:2px;border-width:0;color:black;background-color:black\">\n",
    "\n",
    "<b>Question 8:</b>  A fixed point of a map fis a state $x^*$ such that $x^* = f(x^*)$.<br>\n",
    "<b>Answer 7:</b> true.\n",
    "\n",
    "<hr style=\"height:2px;border-width:0;color:black;background-color:black\">\n",
    "\n",
    "<b>Question 9:</b> Consider the plot, which shows 50 iterates of the orbit of the logistic map from $x_0=0.2$.\n",
    "To what kind of attractor is this orbit converging?<br>"
   ]
  },
  {
   "cell_type": "code",
   "execution_count": null,
   "id": "1b9dc15e",
   "metadata": {},
   "outputs": [],
   "source": [
    "def orbit(F, x0, n):\n",
    "    result = []\n",
    "    for _ in range(n):\n",
    "        result.append(x0)\n",
    "        x0 = F(x0)\n",
    "    return result\n",
    "\n",
    "def show_orbit(orbit, **kws):\n",
    "    xs = np.arange(len(orbit))\n",
    "    plt.plot(xs, orbit, color=kws.get('color', 'b'), marker='.', linestyle='')\n",
    "    \n",
    "show_orbit(orbit(lambda x: 3.25 * x * (1 - x), 0.2, 50))"
   ]
  },
  {
   "cell_type": "markdown",
   "id": "344bcb3e",
   "metadata": {},
   "source": [
    "<b>Answer 9:</b> periodic orbits.\n",
    "\n",
    "<hr style=\"height:2px;border-width:0;color:black;background-color:black\">\n",
    "\n",
    "<b>Question 10:</b> Consider the plot in the previous question.  How long is the transient, roughly? <br>\n",
    "<b>Answer 10:</b> а вот черт его знает, от точности же зависит\n",
    "\n",
    "<hr style=\"height:2px;border-width:0;color:black;background-color:black\">\n",
    "\n",
    "<b>Question 11:</b> If two initial conditions of a given dynamical system —- with the same parameter value(s) —- converged to two different fixed points, both of those fixed points will always be unstable.<br>\n",
    "<b>Answer 11:</b> False. Since here there is a convergence, both of the points are stable.\n",
    "\n",
    "<hr style=\"height:2px;border-width:0;color:black;background-color:black\">\n",
    "\n",
    "<b>Question 12:</b> If two initial conditions of a given dynamical system —- with the same parameter value(s) — converged to two different fixed points, the transient lengths will always be different.<br>\n",
    "<b>Answer 12:</b> False.\n",
    "\n",
    "<hr style=\"height:2px;border-width:0;color:black;background-color:black\">\n",
    "\n",
    "<b>Question 13:</b> If two initial conditions of a given dynamical system — with the same parameter value(s) — converged to two different fixed points, those initial conditions must be in different basins of attraction.<br>\n",
    "<b>Answer 13:</b> True.\n",
    "\n",
    "<hr style=\"height:2px;border-width:0;color:black;background-color:black\">\n",
    "\n",
    "<b>Question 14:</b> Use the logistic map app to generate trajectories from a variety of different initial conditions in the range $0.2 < x < 0.8$ with $r=3.5$.  What kind of attractor (if any) does the system have?"
   ]
  },
  {
   "cell_type": "code",
   "execution_count": null,
   "id": "2e293618",
   "metadata": {},
   "outputs": [],
   "source": [
    "L = lambda x: 3.5 * x * (1 - x)\n",
    "show_orbit(orbit(L, 0.2, 50))"
   ]
  },
  {
   "cell_type": "markdown",
   "id": "82ee622d",
   "metadata": {},
   "source": [
    "Would be better to answer the question theoretically. To do this let's create the phase diagramm."
   ]
  },
  {
   "cell_type": "code",
   "execution_count": null,
   "id": "3a040fe1",
   "metadata": {},
   "outputs": [],
   "source": [
    "xs = np.arange(0, 1, 0.005)\n",
    "lv = np.vectorize(L)\n",
    "plt.plot(xs, lv(xs)); plt.plot(xs, xs)\n",
    "plt.show()"
   ]
  },
  {
   "cell_type": "code",
   "execution_count": null,
   "id": "7842ef2b",
   "metadata": {},
   "outputs": [],
   "source": [
    "lv2 = np.vectorize(lambda x: L(L(x)))\n",
    "plt.plot(xs, lv2(xs)); plt.plot(xs, xs)\n",
    "plt.show()"
   ]
  },
  {
   "cell_type": "code",
   "execution_count": null,
   "id": "239b7fef",
   "metadata": {},
   "outputs": [],
   "source": [
    "lv3 = np.vectorize(lambda x: L(L(L(x))))\n",
    "plt.plot(xs, lv3(xs)); plt.plot(xs, xs)\n",
    "plt.show()"
   ]
  },
  {
   "cell_type": "code",
   "execution_count": null,
   "id": "67481006",
   "metadata": {},
   "outputs": [],
   "source": [
    "lv4 = np.vectorize(lambda x: L(L(L(L(x)))))\n",
    "plt.plot(xs, lv4(xs)); plt.plot(xs, xs)\n",
    "plt.show()"
   ]
  },
  {
   "cell_type": "code",
   "execution_count": null,
   "id": "d7c4fe86",
   "metadata": {},
   "outputs": [],
   "source": []
  }
 ],
 "metadata": {
  "kernelspec": {
   "display_name": "Python 3",
   "language": "python",
   "name": "python3"
  },
  "language_info": {
   "codemirror_mode": {
    "name": "ipython",
    "version": 3
   },
   "file_extension": ".py",
   "mimetype": "text/x-python",
   "name": "python",
   "nbconvert_exporter": "python",
   "pygments_lexer": "ipython3",
   "version": "3.8.8"
  }
 },
 "nbformat": 4,
 "nbformat_minor": 5
}
