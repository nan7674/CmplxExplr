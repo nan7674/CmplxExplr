{
 "cells": [
  {
   "cell_type": "markdown",
   "id": "9ddd49ec",
   "metadata": {},
   "source": [
    "## Nonlinear Dynamics: Mathematical and Computational Approaches, Quiz 1"
   ]
  },
  {
   "cell_type": "code",
   "execution_count": null,
   "id": "5ed9cffc",
   "metadata": {},
   "outputs": [],
   "source": [
    "import numpy as np\n",
    "from matplotlib import pyplot"
   ]
  },
  {
   "cell_type": "code",
   "execution_count": null,
   "id": "fb30641c",
   "metadata": {},
   "outputs": [],
   "source": [
    "def logistic_map(x, R):\n",
    "    return R * x * (1 - x)\n",
    "\n",
    "def orbit(F, n, x0):\n",
    "    result = [x0]\n",
    "    for _ in range(n):\n",
    "        x0 = F(x0)\n",
    "        result.append(x0)\n",
    "\n",
    "    return result"
   ]
  },
  {
   "cell_type": "markdown",
   "id": "c54430ad",
   "metadata": {},
   "source": [
    "<hr style=\"height:2px;border-width:0;color:black;background-color:black\">"
   ]
  },
  {
   "cell_type": "markdown",
   "id": "3f5fe489",
   "metadata": {},
   "source": [
    "<b>Question 1</b>: Calculate the third iterate of the logistic map with r = 2.5 starting from x0 = 0.5.  Do this by hand.  What is the third iterate you calculated?"
   ]
  },
  {
   "cell_type": "code",
   "execution_count": null,
   "id": "58262dff",
   "metadata": {},
   "outputs": [],
   "source": [
    "L, x = lambda x: logistic_map(x, 2.5), 0.5\n",
    "\n",
    "for iteration in range(4):\n",
    "    print('{}: {}'.format(iteration, round(x, 4)))\n",
    "    x = L(x)\n",
    "\n",
    "del x\n",
    "del L"
   ]
  },
  {
   "cell_type": "markdown",
   "id": "cb02938e",
   "metadata": {},
   "source": [
    "<hr style=\"height:2px;border-width:0;color:black;background-color:black\">"
   ]
  },
  {
   "cell_type": "markdown",
   "id": "5a91d1d2",
   "metadata": {},
   "source": [
    "<b>Question 2:</b> Write a simple program that uses a loop to compute a specified number $n$ of iterates of the logistic map, starting from a specified initial condition $x_0$, with a specified $r$ parameter.  Your program should take $n$, $x_0$, and $r$ as inputs or arguments.  Check your program against the answer to the first problem above.\n",
    "\n",
    "Using your program, compute the tenth iterate of the logistic map starting from $x_0 = 0.2$, with $r = 2.6$.  What is the tenth iterate?"
   ]
  },
  {
   "cell_type": "code",
   "execution_count": null,
   "id": "8d8cec0f",
   "metadata": {},
   "outputs": [],
   "source": [
    "L, x = lambda x: logistic_map(x, 2.6), 0.2\n",
    "for iteration in range(11):\n",
    "    print('{}: {}'.format(iteration, round(x, 4)))\n",
    "    x = L(x)\n",
    "del x\n",
    "del L"
   ]
  },
  {
   "cell_type": "markdown",
   "id": "2ef6cca7",
   "metadata": {},
   "source": [
    "<hr style=\"height:2px;border-width:0;color:black;background-color:black\">"
   ]
  },
  {
   "cell_type": "markdown",
   "id": "1e6d0fde",
   "metadata": {},
   "source": [
    "<b>Question 3:</b> Use the application to compute and plot the first 50 iterates of the logistic map from $x_0 = 0.2$ and $r = 2$. Does the orbit (top right plot) reach a fixed point?"
   ]
  },
  {
   "cell_type": "code",
   "execution_count": null,
   "id": "2870b569",
   "metadata": {},
   "outputs": [],
   "source": [
    "L, x = lambda x: logistic_map(x, 2), [0.2]\n",
    "for iteration in range(50):\n",
    "    x.append(L(x[-1]))\n",
    "    \n",
    "pyplot.plot(x)\n",
    "pyplot.show()\n",
    "del x\n",
    "del L"
   ]
  },
  {
   "cell_type": "markdown",
   "id": "9cd9d162",
   "metadata": {},
   "source": [
    "<hr style=\"height:2px;border-width:0;color:black;background-color:black\">"
   ]
  },
  {
   "cell_type": "markdown",
   "id": "332bdcf0",
   "metadata": {},
   "source": [
    "<b>Question 4:</b> Using the same application, plot the first 50 iterates of the logistic map with $r = 2.7$ starting from $x_0 = 0.2$.  Does the orbit reach a fixed point?"
   ]
  },
  {
   "cell_type": "code",
   "execution_count": null,
   "id": "4626705f",
   "metadata": {},
   "outputs": [],
   "source": [
    "L, x = lambda x: logistic_map(x, 2.7), [0.2]\n",
    "for iteration in range(50):\n",
    "    x.append(L(x[-1]))\n",
    "    \n",
    "pyplot.plot(x)\n",
    "pyplot.show()\n",
    "del x\n",
    "del L"
   ]
  },
  {
   "cell_type": "markdown",
   "id": "657456a9",
   "metadata": {},
   "source": [
    "<hr style=\"height:2px;border-width:0;color:black;background-color:black\">"
   ]
  },
  {
   "cell_type": "markdown",
   "id": "59411cb9",
   "metadata": {},
   "source": [
    "<b>Question 5:</b> If the orbits in questions 3 and 4 both reached a fixed point, is it at the same value of $x$; i.e., is it the same fixed point?"
   ]
  },
  {
   "cell_type": "code",
   "execution_count": null,
   "id": "e2e45c01",
   "metadata": {},
   "outputs": [],
   "source": [
    "L3, x3 = lambda x: logistic_map(x, 2), 0.2\n",
    "L4, x4 = lambda x: logistic_map(x, 2.7), 0.2\n",
    "\n",
    "T3, T4 = orbit(L3, 50, x3), orbit(L4, 50, x4)\n",
    "\n",
    "pyplot.plot(np.arange(51), T3)\n",
    "pyplot.plot(np.arange(51), T4)\n",
    "pyplot.show()"
   ]
  },
  {
   "cell_type": "markdown",
   "id": "61d0adbd",
   "metadata": {},
   "source": [
    "A fixed point $a$ for the logistic map satisfies the equation\n",
    "$$\n",
    "a = r a (1-a)\n",
    "$$\n",
    "or, removing the obvious solution $a = 0$,\n",
    "$$\n",
    "a = 1 - \\frac1r.\n",
    "$$\n",
    "For the given values of $r$ $r = 2$ and $r = 2.7$ one has the following fixed points\n",
    "$$\n",
    "a_1 = 1 - \\frac12 = 0.5\n",
    "$$\n",
    "and \n",
    "$$\n",
    "a_2 = 1 - \\frac{1}{2.7}.\n",
    "$$\n",
    "Approximation for the second point is"
   ]
  },
  {
   "cell_type": "code",
   "execution_count": null,
   "id": "f54ad34d",
   "metadata": {},
   "outputs": [],
   "source": [
    "round(1 - 1/2.7, 4)"
   ]
  },
  {
   "cell_type": "markdown",
   "id": "9dff2b76",
   "metadata": {},
   "source": [
    "<hr style=\"height:2px;border-width:0;color:black;background-color:black\">"
   ]
  }
 ],
 "metadata": {
  "kernelspec": {
   "display_name": "Python 3",
   "language": "python",
   "name": "python3"
  },
  "language_info": {
   "codemirror_mode": {
    "name": "ipython",
    "version": 3
   },
   "file_extension": ".py",
   "mimetype": "text/x-python",
   "name": "python",
   "nbconvert_exporter": "python",
   "pygments_lexer": "ipython3",
   "version": "3.8.8"
  }
 },
 "nbformat": 4,
 "nbformat_minor": 5
}
